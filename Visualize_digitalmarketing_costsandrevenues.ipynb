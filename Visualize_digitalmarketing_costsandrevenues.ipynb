{
  "nbformat": 4,
  "nbformat_minor": 0,
  "metadata": {
    "colab": {
      "provenance": []
    },
    "kernelspec": {
      "name": "python3",
      "display_name": "Python 3"
    },
    "language_info": {
      "name": "python"
    }
  },
  "cells": [
    {
      "cell_type": "markdown",
      "source": [
        "In this file, i will write some code to do some processes on a dataset that contain data about the online sales and digital marketing.\n",
        "\n",
        "I dont' own the dataset so i won't show it or the file here, but i will write the codes to get the data and visualzie it"
      ],
      "metadata": {
        "id": "Dm1p-X2ksY9G"
      }
    },
    {
      "cell_type": "code",
      "execution_count": 34,
      "metadata": {
        "id": "dG2EXL99xhZQ"
      },
      "outputs": [],
      "source": [
        "# import the dataset\n",
        "import pandas as pd\n",
        "\n",
        "df = pd.read_excel(\"file name.xlsx\")\n",
        "df"
      ]
    },
    {
      "cell_type": "code",
      "source": [
        "# finding none values to delete them\n",
        "Novalues = df.isnull().sum()\n",
        "Novalues"
      ],
      "metadata": {
        "id": "CJ5CtqaZyGyX"
      },
      "execution_count": 35,
      "outputs": []
    },
    {
      "cell_type": "code",
      "source": [
        "df = df.drop(44)\n",
        "df"
      ],
      "metadata": {
        "id": "2A0dNTmfzGwY"
      },
      "execution_count": 36,
      "outputs": []
    },
    {
      "cell_type": "code",
      "source": [
        "df = df.drop(43)\n",
        "df"
      ],
      "metadata": {
        "id": "YhhT1hjKlnf-"
      },
      "execution_count": 37,
      "outputs": []
    },
    {
      "cell_type": "code",
      "source": [
        "# finding duplicate values to delete them\n",
        "duplicaterows =df.duplicated().sum()\n",
        "duplicaterows"
      ],
      "metadata": {
        "id": "FXdHh9Ov0P4k"
      },
      "execution_count": 38,
      "outputs": []
    },
    {
      "cell_type": "code",
      "source": [
        "# visulazing the costs for display, sponsered ads, kerywords bidding and text ads and compare over time\n",
        "import matplotlib.pyplot as plt\n",
        "plt.figure(figsize=(30, 18))\n",
        "\n",
        "colors = ['blue', 'green', 'red', 'orange']\n",
        "\n",
        "plt.plot(df['From Date'], df['Cost of Display Banner'], label='Banners', color=colors[0])\n",
        "plt.plot(df['From Date'], df['Cost of Sponsored Brand Ads'], label='Sponsors', color=colors[1])\n",
        "plt.plot(df['From Date'], df['Cost of Keywords Bidding '], label='Keywords', color=colors[2])\n",
        "plt.plot(df['From Date'], df['Cost of Text Ads '], label='Text Ads', color=colors[3])\n",
        "\n",
        "plt.xlabel('Weeks')\n",
        "plt.ylabel('Costs')\n",
        "plt.title('Costs by Week')\n",
        "\n",
        "plt.legend()\n",
        "plt.show()"
      ],
      "metadata": {
        "id": "F1x_Sw1Z3laV"
      },
      "execution_count": 40,
      "outputs": []
    },
    {
      "cell_type": "code",
      "source": [
        "# showing the percentages of each type of costs\n",
        "total_costs = df[['Cost of Display Banner', 'Cost of Sponsored Brand Ads', 'Cost of Keywords Bidding', 'Cost of Text Ads']].sum(axis=1)\n",
        "percent_df = df[['Cost of Display Banner', 'Cost of Sponsored Brand Ads', 'Cost of Keywords Bidding', 'Cost of Text Ads']].div(total_costs, axis=0) * 100\n",
        "\n",
        "\n",
        "plt.stackplot(df['From Date'], percent_df.values.T, labels=percent_df.columns)\n",
        "\n",
        "plt.xlabel('weeks')\n",
        "plt.ylabel('Percentage of Costs')\n",
        "plt.title('Percentage of Costs by Week')\n",
        "\n",
        "plt.legend()\n",
        "\n",
        "plt.show()"
      ],
      "metadata": {
        "id": "HvrbNGRGiikQ"
      },
      "execution_count": 41,
      "outputs": []
    },
    {
      "cell_type": "code",
      "source": [
        "# calculating the sum of the costs\n",
        "columnsum1 = df['Cost of Display Banner'].sum()\n",
        "columnsum2 = df['Cost of Sponsored Brand Ads'].sum()\n",
        "columnsum3 = df['Cost of Keywords Bidding '].sum()\n",
        "columnsum4 = df['Cost of Text Ads'].sum()\n",
        "\n",
        "total_costs = columnsum1 + columnsum2 + columnsum3 + columnsum4\n",
        "total_costs"
      ],
      "metadata": {
        "id": "mPefi2Ykkl4w"
      },
      "execution_count": 42,
      "outputs": []
    },
    {
      "cell_type": "code",
      "source": [
        "# making a list for the costs percentages\n",
        "percents = [columnsum1, columnsum2, columnsum3, columnsum4]\n",
        "# adding name of each cost type\n",
        "perlabels = ['banners', 'sponser', 'keyword bidding', 'text ads']\n",
        "total = sum(percents)\n",
        "# getting the percentage of each value\n",
        "pervalues = [(cost / total) * 100 for cost in percents]\n",
        "\n",
        "plt.pie(pervalues, labels=perlabels, autopct='%1.11f%%')\n",
        "\n",
        "# chart title\n",
        "plt.title('Percentage of Costs by Category')\n",
        "\n",
        "plt.show()"
      ],
      "metadata": {
        "id": "g2WNPWdyjsBa"
      },
      "execution_count": 43,
      "outputs": []
    },
    {
      "cell_type": "code",
      "source": [
        "# see information in other sheets and dropping empty rows\n",
        "df2 = pd.read_excel('file name.xlsx', sheet_name='sheet name')\n",
        "df3 = pd.read_excel('file name.xlsx', sheet_name='sheet name')\n",
        "df2 = df2.drop(44)\n",
        "df2"
      ],
      "metadata": {
        "id": "DwSwFJEynRDK"
      },
      "execution_count": 44,
      "outputs": []
    },
    {
      "cell_type": "code",
      "source": [
        "# using candle sticks to show ROI\n",
        "# compare ROI of both keyword bidding and display banner costs\n",
        "import plotly.graph_objects as go\n",
        "\n",
        "figure = go.Figure(data=[\n",
        "    go.Candlestick(\n",
        "        x=df2.index,\n",
        "        open=df2['Unnamed: 8'],\n",
        "        high=df2['Unnamed: 8'],\n",
        "        low=df2['Unnamed: 8'],\n",
        "        close=df2['Unnamed: 8'],\n",
        "        name='keyword bidding'\n",
        "    ),\n",
        "    go.Candlestick(\n",
        "        x=df3.index,\n",
        "        open=df3['ROI （1）'],\n",
        "        high=df3['ROI （1）'],\n",
        "        low=df3['ROI （1）'],\n",
        "        close=df3['ROI （1）'],\n",
        "        name='display banner'\n",
        "    )\n",
        "])\n",
        "\n",
        "\n",
        "figure.update_layout(\n",
        "    title='ROI Comparison',\n",
        "    xaxis_title='Index',\n",
        "    yaxis_title='ROI'\n",
        ")\n",
        "\n",
        "figure.show()"
      ],
      "metadata": {
        "id": "1zIpksXEnRHx"
      },
      "execution_count": 46,
      "outputs": []
    }
  ]
}